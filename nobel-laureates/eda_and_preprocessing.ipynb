{
 "cells": [
  {
   "attachments": {},
   "cell_type": "markdown",
   "metadata": {},
   "source": [
    "## EDA and Preprocessing of Nobel Laureate Data from 1901 to 2023"
   ]
  },
  {
   "attachments": {},
   "cell_type": "markdown",
   "metadata": {},
   "source": [
    "[Data Source (Kaggle)](https://www.kaggle.com/datasets/prithusharma1/all-nobel-laureates-1901-present)"
   ]
  },
  {
   "attachments": {},
   "cell_type": "markdown",
   "metadata": {},
   "source": [
    "### Imports"
   ]
  },
  {
   "cell_type": "code",
   "execution_count": 82,
   "metadata": {},
   "outputs": [],
   "source": [
    "## necessary imports\n",
    "import pandas as pd\n",
    "import seaborn as sns\n",
    "import re\n",
    "from matplotlib import pyplot as plt\n",
    "\n",
    "## supress warnings\n",
    "pd.options.mode.chained_assignment = None  # default='warn'"
   ]
  },
  {
   "attachments": {},
   "cell_type": "markdown",
   "metadata": {},
   "source": [
    "Reading in the dataset:"
   ]
  },
  {
   "cell_type": "code",
   "execution_count": 3,
   "metadata": {},
   "outputs": [
    {
     "data": {
      "text/html": [
       "<div>\n",
       "<style scoped>\n",
       "    .dataframe tbody tr th:only-of-type {\n",
       "        vertical-align: middle;\n",
       "    }\n",
       "\n",
       "    .dataframe tbody tr th {\n",
       "        vertical-align: top;\n",
       "    }\n",
       "\n",
       "    .dataframe thead th {\n",
       "        text-align: right;\n",
       "    }\n",
       "</style>\n",
       "<table border=\"1\" class=\"dataframe\">\n",
       "  <thead>\n",
       "    <tr style=\"text-align: right;\">\n",
       "      <th></th>\n",
       "      <th>Year</th>\n",
       "      <th>Laureate_Id</th>\n",
       "      <th>Firstname</th>\n",
       "      <th>Lastname</th>\n",
       "      <th>Category</th>\n",
       "      <th>Gender</th>\n",
       "      <th>Prize_Share</th>\n",
       "      <th>Motivation</th>\n",
       "      <th>Birth_Date</th>\n",
       "      <th>Birth_Country</th>\n",
       "      <th>Birth_City</th>\n",
       "      <th>Birth_Country_Code</th>\n",
       "      <th>Death_Date</th>\n",
       "      <th>Death_Country</th>\n",
       "      <th>Death_City</th>\n",
       "      <th>Death_Country_Code</th>\n",
       "      <th>Organization_Name</th>\n",
       "      <th>Organization_City</th>\n",
       "      <th>Organization_Country</th>\n",
       "    </tr>\n",
       "  </thead>\n",
       "  <tbody>\n",
       "    <tr>\n",
       "      <th>0</th>\n",
       "      <td>1901</td>\n",
       "      <td>1</td>\n",
       "      <td>Wilhelm Conrad</td>\n",
       "      <td>Röntgen</td>\n",
       "      <td>physics</td>\n",
       "      <td>male</td>\n",
       "      <td>1</td>\n",
       "      <td>\"in recognition of the extraordinary services ...</td>\n",
       "      <td>1845-03-27</td>\n",
       "      <td>Prussia (now Germany)</td>\n",
       "      <td>Lennep (now Remscheid)</td>\n",
       "      <td>DE</td>\n",
       "      <td>10-02-1923</td>\n",
       "      <td>Germany</td>\n",
       "      <td>Munich</td>\n",
       "      <td>DE</td>\n",
       "      <td>Munich University</td>\n",
       "      <td>Munich</td>\n",
       "      <td>Germany</td>\n",
       "    </tr>\n",
       "    <tr>\n",
       "      <th>1</th>\n",
       "      <td>1901</td>\n",
       "      <td>293</td>\n",
       "      <td>Emil</td>\n",
       "      <td>von Behring</td>\n",
       "      <td>medicine</td>\n",
       "      <td>male</td>\n",
       "      <td>1</td>\n",
       "      <td>\"for his work on serum therapy especially its ...</td>\n",
       "      <td>1854-03-15</td>\n",
       "      <td>Prussia (now Poland)</td>\n",
       "      <td>Hansdorf (now Lawice)</td>\n",
       "      <td>PL</td>\n",
       "      <td>31-03-1917</td>\n",
       "      <td>Germany</td>\n",
       "      <td>Marburg</td>\n",
       "      <td>DE</td>\n",
       "      <td>Marburg University</td>\n",
       "      <td>Marburg</td>\n",
       "      <td>Germany</td>\n",
       "    </tr>\n",
       "    <tr>\n",
       "      <th>2</th>\n",
       "      <td>1901</td>\n",
       "      <td>462</td>\n",
       "      <td>Henry</td>\n",
       "      <td>Dunant</td>\n",
       "      <td>peace</td>\n",
       "      <td>male</td>\n",
       "      <td>2</td>\n",
       "      <td>\"for his humanitarian efforts to help wounded ...</td>\n",
       "      <td>1828-05-08</td>\n",
       "      <td>Switzerland</td>\n",
       "      <td>Geneva</td>\n",
       "      <td>CH</td>\n",
       "      <td>30-10-1910</td>\n",
       "      <td>Switzerland</td>\n",
       "      <td>Heiden</td>\n",
       "      <td>CH</td>\n",
       "      <td>NaN</td>\n",
       "      <td>NaN</td>\n",
       "      <td>NaN</td>\n",
       "    </tr>\n",
       "    <tr>\n",
       "      <th>3</th>\n",
       "      <td>1901</td>\n",
       "      <td>463</td>\n",
       "      <td>Frédéric</td>\n",
       "      <td>Passy</td>\n",
       "      <td>peace</td>\n",
       "      <td>male</td>\n",
       "      <td>2</td>\n",
       "      <td>\"for his lifelong work for international peace...</td>\n",
       "      <td>1822-05-20</td>\n",
       "      <td>France</td>\n",
       "      <td>Paris</td>\n",
       "      <td>FR</td>\n",
       "      <td>12-06-1912</td>\n",
       "      <td>France</td>\n",
       "      <td>Paris</td>\n",
       "      <td>FR</td>\n",
       "      <td>NaN</td>\n",
       "      <td>NaN</td>\n",
       "      <td>NaN</td>\n",
       "    </tr>\n",
       "    <tr>\n",
       "      <th>4</th>\n",
       "      <td>1901</td>\n",
       "      <td>569</td>\n",
       "      <td>Sully</td>\n",
       "      <td>Prudhomme</td>\n",
       "      <td>literature</td>\n",
       "      <td>male</td>\n",
       "      <td>1</td>\n",
       "      <td>\"in special recognition of his poetic composit...</td>\n",
       "      <td>1839-03-16</td>\n",
       "      <td>France</td>\n",
       "      <td>Paris</td>\n",
       "      <td>FR</td>\n",
       "      <td>07-09-1907</td>\n",
       "      <td>France</td>\n",
       "      <td>Châtenay</td>\n",
       "      <td>FR</td>\n",
       "      <td>NaN</td>\n",
       "      <td>NaN</td>\n",
       "      <td>NaN</td>\n",
       "    </tr>\n",
       "  </tbody>\n",
       "</table>\n",
       "</div>"
      ],
      "text/plain": [
       "   Year  Laureate_Id       Firstname     Lastname    Category Gender   \n",
       "0  1901            1  Wilhelm Conrad      Röntgen     physics   male  \\\n",
       "1  1901          293            Emil  von Behring    medicine   male   \n",
       "2  1901          462           Henry       Dunant       peace   male   \n",
       "3  1901          463        Frédéric        Passy       peace   male   \n",
       "4  1901          569           Sully    Prudhomme  literature   male   \n",
       "\n",
       "   Prize_Share                                         Motivation  Birth_Date   \n",
       "0            1  \"in recognition of the extraordinary services ...  1845-03-27  \\\n",
       "1            1  \"for his work on serum therapy especially its ...  1854-03-15   \n",
       "2            2  \"for his humanitarian efforts to help wounded ...  1828-05-08   \n",
       "3            2  \"for his lifelong work for international peace...  1822-05-20   \n",
       "4            1  \"in special recognition of his poetic composit...  1839-03-16   \n",
       "\n",
       "           Birth_Country              Birth_City Birth_Country_Code   \n",
       "0  Prussia (now Germany)  Lennep (now Remscheid)                 DE  \\\n",
       "1   Prussia (now Poland)   Hansdorf (now Lawice)                 PL   \n",
       "2            Switzerland                  Geneva                 CH   \n",
       "3                 France                   Paris                 FR   \n",
       "4                 France                   Paris                 FR   \n",
       "\n",
       "   Death_Date Death_Country Death_City Death_Country_Code   Organization_Name   \n",
       "0  10-02-1923       Germany     Munich                 DE   Munich University  \\\n",
       "1  31-03-1917       Germany    Marburg                 DE  Marburg University   \n",
       "2  30-10-1910   Switzerland     Heiden                 CH                 NaN   \n",
       "3  12-06-1912        France      Paris                 FR                 NaN   \n",
       "4  07-09-1907        France   Châtenay                 FR                 NaN   \n",
       "\n",
       "  Organization_City Organization_Country  \n",
       "0            Munich              Germany  \n",
       "1           Marburg              Germany  \n",
       "2               NaN                  NaN  \n",
       "3               NaN                  NaN  \n",
       "4               NaN                  NaN  "
      ]
     },
     "execution_count": 3,
     "metadata": {},
     "output_type": "execute_result"
    }
   ],
   "source": [
    "nobel_laureate_data = 'data/nobel_latest.csv'\n",
    "\n",
    "nobel_df = pd.read_csv(nobel_laureate_data)\n",
    "nobel_df.head()"
   ]
  },
  {
   "attachments": {},
   "cell_type": "markdown",
   "metadata": {},
   "source": [
    "### EDA"
   ]
  },
  {
   "attachments": {},
   "cell_type": "markdown",
   "metadata": {},
   "source": [
    "I ultimately want to import the data into Tableau and create a heatmap of their birthdates, thus, I want to check for nulls in the `Birth_Date` column."
   ]
  },
  {
   "cell_type": "code",
   "execution_count": 4,
   "metadata": {},
   "outputs": [
    {
     "data": {
      "text/html": [
       "<div>\n",
       "<style scoped>\n",
       "    .dataframe tbody tr th:only-of-type {\n",
       "        vertical-align: middle;\n",
       "    }\n",
       "\n",
       "    .dataframe tbody tr th {\n",
       "        vertical-align: top;\n",
       "    }\n",
       "\n",
       "    .dataframe thead th {\n",
       "        text-align: right;\n",
       "    }\n",
       "</style>\n",
       "<table border=\"1\" class=\"dataframe\">\n",
       "  <thead>\n",
       "    <tr style=\"text-align: right;\">\n",
       "      <th></th>\n",
       "      <th>Year</th>\n",
       "      <th>Laureate_Id</th>\n",
       "      <th>Firstname</th>\n",
       "      <th>Lastname</th>\n",
       "      <th>Category</th>\n",
       "      <th>Gender</th>\n",
       "      <th>Prize_Share</th>\n",
       "      <th>Motivation</th>\n",
       "      <th>Birth_Date</th>\n",
       "      <th>Birth_Country</th>\n",
       "      <th>Birth_City</th>\n",
       "      <th>Birth_Country_Code</th>\n",
       "      <th>Death_Date</th>\n",
       "      <th>Death_Country</th>\n",
       "      <th>Death_City</th>\n",
       "      <th>Death_Country_Code</th>\n",
       "      <th>Organization_Name</th>\n",
       "      <th>Organization_City</th>\n",
       "      <th>Organization_Country</th>\n",
       "    </tr>\n",
       "  </thead>\n",
       "  <tbody>\n",
       "  </tbody>\n",
       "</table>\n",
       "</div>"
      ],
      "text/plain": [
       "Empty DataFrame\n",
       "Columns: [Year, Laureate_Id, Firstname, Lastname, Category, Gender, Prize_Share, Motivation, Birth_Date, Birth_Country, Birth_City, Birth_Country_Code, Death_Date, Death_Country, Death_City, Death_Country_Code, Organization_Name, Organization_City, Organization_Country]\n",
       "Index: []"
      ]
     },
     "execution_count": 4,
     "metadata": {},
     "output_type": "execute_result"
    }
   ],
   "source": [
    "# Checking for nulls in the `Birth_Date` column\n",
    "nobel_df[nobel_df['Birth_Date'].isna()]"
   ]
  },
  {
   "attachments": {},
   "cell_type": "markdown",
   "metadata": {},
   "source": [
    "Seems like there are non null values, which is perfect; no need for me to impute values. I will do some preprocessing in that appropriate section of this notebook."
   ]
  },
  {
   "attachments": {},
   "cell_type": "markdown",
   "metadata": {},
   "source": [
    "From just a quick peruse at the dataset, a few questions come to mind:\n",
    "\n",
    "1. Number of winners in each subject category\n",
    "2. Number of winners in each birth country\n",
    "3. Winner proportion by gender\n",
    "    * Winner in each subject category by gender\n",
    "\n",
    "To answer these questions, I will perform some simple aggregations and visualizations."
   ]
  },
  {
   "attachments": {},
   "cell_type": "markdown",
   "metadata": {},
   "source": [
    "#### Q1. Number of winners in each subject category"
   ]
  },
  {
   "attachments": {},
   "cell_type": "markdown",
   "metadata": {},
   "source": [
    "Using a [`seaborn.countplot`](https://seaborn.pydata.org/generated/seaborn.countplot.html) seems to be the best way to answer my first question. I also use a helper function from [Stack Overlflow](https://stackoverflow.com/questions/35692781/plotting-percentage-in-seaborn-bar-plot) to include percentage annotations of each category in the countplot."
   ]
  },
  {
   "cell_type": "code",
   "execution_count": 5,
   "metadata": {},
   "outputs": [],
   "source": [
    "# Helper function from\n",
    "# https://stackoverflow.com/questions/35692781/plotting-percentage-in-seaborn-bar-plot\n",
    "# Annotates countplot with proportion at top\n",
    "def count_plot_with_percent(plot, feature):\n",
    "    total = len(feature)\n",
    "    for p in plot.patches:\n",
    "        percentage = '{:.1f}%'.format(100 * p.get_height()/total)\n",
    "\n",
    "        # Position of annotation\n",
    "        x = p.get_x() + p.get_width() / 2 - 0.225 # got these numbers from trial and error\n",
    "        y = p.get_y() + p.get_height() + 1.5\n",
    "        plot.annotate(percentage, (x, y), size=10)\n",
    "    plt.show()"
   ]
  },
  {
   "attachments": {},
   "cell_type": "markdown",
   "metadata": {},
   "source": [
    "Calling the helper function and making the countplot:"
   ]
  },
  {
   "cell_type": "code",
   "execution_count": 6,
   "metadata": {},
   "outputs": [
    {
     "data": {
      "image/png": "[encoded data removed]",
      "text/plain": [
       "<Figure size 640x480 with 1 Axes>"
      ]
     },
     "metadata": {},
     "output_type": "display_data"
    }
   ],
   "source": [
    "plt.title('Countplot of Nobel Laureate Winners by Category')\n",
    "ax = sns.countplot(x=nobel_df['Category'],\n",
    "                   order=nobel_df['Category'].value_counts().index, edgecolor='black') # order by desc\n",
    "\n",
    "# Call helper function\n",
    "count_plot_with_percent(ax, nobel_df.Category)"
   ]
  },
  {
   "attachments": {},
   "cell_type": "markdown",
   "metadata": {},
   "source": [
    "From a quick [wikipedia](https://en.wikipedia.org/wiki/Nobel_Prize) search, it appears that Nobel Prizes were originally only awarded in the fields of \"Physics, Chemistry, Medicine, Literature, and Peace.\" In $1968$, the prize in \"Economics\" was established.\n",
    "\n",
    "\"Peace\" is characterized by Alfred Nobel (the guy who came up with the prizes) as \"to the person who has done the most or best to advance fellowship among nations, the abolition or reduction of standing armies, and the establishiment and promotion of peace congresses.\n",
    "\n",
    "Some pretty interesting awards I guess. With this information known, I think it makes sense that economics contains the least proportion of awards since it was established much later ($67$ years the original conception).\n",
    "\n",
    "Also find it pretty interesting that physics and medicine are largely tied, and then there's a relatively large dip in proportion in the next category of chemistry."
   ]
  },
  {
   "attachments": {},
   "cell_type": "markdown",
   "metadata": {},
   "source": [
    "#### Q2. Number of winners in each birth country"
   ]
  },
  {
   "attachments": {},
   "cell_type": "markdown",
   "metadata": {},
   "source": [
    "Code is going to be largely the same as Q1, but this time using the `Birth_Country_Code` column."
   ]
  },
  {
   "cell_type": "code",
   "execution_count": 7,
   "metadata": {},
   "outputs": [
    {
     "data": {
      "image/png": "[encoded data removed]",
      "text/plain": [
       "<Figure size 640x480 with 1 Axes>"
      ]
     },
     "metadata": {},
     "output_type": "display_data"
    }
   ],
   "source": [
    "plt.title('Countplot of Nobel Laureate Winners Birth Country Code')\n",
    "ax = sns.countplot(x=nobel_df['Birth_Country_Code'],\n",
    "                   order=nobel_df['Birth_Country_Code'].value_counts().index) # order by desc\n",
    "\n",
    "# Call helper function\n",
    "count_plot_with_percent(ax, nobel_df.Birth_Country_Code)"
   ]
  },
  {
   "attachments": {},
   "cell_type": "markdown",
   "metadata": {},
   "source": [
    "Clearly there are too many birth countries to display succintly in a visualization. Thus, I will only display those in the *top $10$* countries with the most nobel laureates born and use that as a filter."
   ]
  },
  {
   "cell_type": "code",
   "execution_count": 8,
   "metadata": {},
   "outputs": [
    {
     "data": {
      "image/png": "[encoded data removed]",
      "text/plain": [
       "<Figure size 640x480 with 1 Axes>"
      ]
     },
     "metadata": {},
     "output_type": "display_data"
    }
   ],
   "source": [
    "# get top 10\n",
    "top_10_birth_countries = nobel_df['Birth_Country_Code'].value_counts().head(10).index\n",
    "\n",
    "# filter\n",
    "top_10_birth_countries_df = nobel_df[nobel_df[\"Birth_Country_Code\"].isin(top_10_birth_countries)]\n",
    "\n",
    "# plot again\n",
    "plt.title('Countplot of Nobel Laureate Winners by Birth Country Code')\n",
    "ax = sns.countplot(x=top_10_birth_countries_df['Birth_Country_Code'],\n",
    "                   order=top_10_birth_countries_df['Birth_Country_Code'].value_counts().index,\n",
    "                   edgecolor='black') # order by desc\n",
    "\n",
    "# call helper function\n",
    "count_plot_with_percent(ax, nobel_df.Birth_Country_Code) # note I use `nobel_df` to caclulate percentages"
   ]
  },
  {
   "attachments": {},
   "cell_type": "markdown",
   "metadata": {},
   "source": [
    "There seems to be an overwhelming majority of winners coming from the United States, triple the proporition of that of the runner-up, United Kingdom of Great Britian (GB). This is quite interesting to know, could this be because of the higher \"visibility\" of those living in the United States? Does this have any relationship with an individual's \"Organization?\" For example, are there more academic organizations in the United States, and thus higher visibility and likelihood of wining and Nobel Prize? These questions could be investigated in a future project."
   ]
  },
  {
   "attachments": {},
   "cell_type": "markdown",
   "metadata": {},
   "source": [
    "#### Q3i. Winner proportion by gender"
   ]
  },
  {
   "attachments": {},
   "cell_type": "markdown",
   "metadata": {},
   "source": [
    "And here it comes, the gender-related analysis. No doubt there are going to be more male winners than female winners, but I'm curious to see by how much.\n",
    "\n",
    "Code will still stay largely the same, a seaborn countplot is probably still the best way to go."
   ]
  },
  {
   "cell_type": "code",
   "execution_count": 9,
   "metadata": {},
   "outputs": [
    {
     "data": {
      "image/png": "[encoded data removed]",
      "text/plain": [
       "<Figure size 640x480 with 1 Axes>"
      ]
     },
     "metadata": {},
     "output_type": "display_data"
    }
   ],
   "source": [
    "plt.title('Countplot of Nobel Laureate Winners by Gender')\n",
    "ax = sns.countplot(x=nobel_df['Gender'],\n",
    "                   order=nobel_df['Gender'].value_counts().index, edgecolor='black') # order by desc\n",
    "\n",
    "# Call helper function\n",
    "count_plot_with_percent(ax, nobel_df.Gender)"
   ]
  },
  {
   "attachments": {},
   "cell_type": "markdown",
   "metadata": {},
   "source": [
    "Well, no surprise that it is overwhelming male, $90.8\\%$ to $6.2\\%$ is *extremely* disproportionate though.\n",
    "\n",
    "But what is this \"org\" label? Taking a closer look:"
   ]
  },
  {
   "cell_type": "code",
   "execution_count": 10,
   "metadata": {},
   "outputs": [
    {
     "data": {
      "text/html": [
       "<div>\n",
       "<style scoped>\n",
       "    .dataframe tbody tr th:only-of-type {\n",
       "        vertical-align: middle;\n",
       "    }\n",
       "\n",
       "    .dataframe tbody tr th {\n",
       "        vertical-align: top;\n",
       "    }\n",
       "\n",
       "    .dataframe thead th {\n",
       "        text-align: right;\n",
       "    }\n",
       "</style>\n",
       "<table border=\"1\" class=\"dataframe\">\n",
       "  <thead>\n",
       "    <tr style=\"text-align: right;\">\n",
       "      <th></th>\n",
       "      <th>Year</th>\n",
       "      <th>Laureate_Id</th>\n",
       "      <th>Firstname</th>\n",
       "      <th>Lastname</th>\n",
       "      <th>Category</th>\n",
       "      <th>Gender</th>\n",
       "      <th>Prize_Share</th>\n",
       "      <th>Motivation</th>\n",
       "      <th>Birth_Date</th>\n",
       "      <th>Birth_Country</th>\n",
       "      <th>Birth_City</th>\n",
       "      <th>Birth_Country_Code</th>\n",
       "      <th>Death_Date</th>\n",
       "      <th>Death_Country</th>\n",
       "      <th>Death_City</th>\n",
       "      <th>Death_Country_Code</th>\n",
       "      <th>Organization_Name</th>\n",
       "      <th>Organization_City</th>\n",
       "      <th>Organization_Country</th>\n",
       "    </tr>\n",
       "  </thead>\n",
       "  <tbody>\n",
       "    <tr>\n",
       "      <th>22</th>\n",
       "      <td>1904</td>\n",
       "      <td>467</td>\n",
       "      <td>Institute of International Law</td>\n",
       "      <td>NaN</td>\n",
       "      <td>peace</td>\n",
       "      <td>org</td>\n",
       "      <td>1</td>\n",
       "      <td>\"for its striving in public law to develop pea...</td>\n",
       "      <td>1873-00-00</td>\n",
       "      <td>NaN</td>\n",
       "      <td>NaN</td>\n",
       "      <td>NaN</td>\n",
       "      <td>0000-00-00</td>\n",
       "      <td>NaN</td>\n",
       "      <td>NaN</td>\n",
       "      <td>NaN</td>\n",
       "      <td>NaN</td>\n",
       "      <td>NaN</td>\n",
       "      <td>NaN</td>\n",
       "    </tr>\n",
       "    <tr>\n",
       "      <th>58</th>\n",
       "      <td>1910</td>\n",
       "      <td>477</td>\n",
       "      <td>Permanent International Peace Bureau</td>\n",
       "      <td>NaN</td>\n",
       "      <td>peace</td>\n",
       "      <td>org</td>\n",
       "      <td>1</td>\n",
       "      <td>\"for acting as a link between the peace societ...</td>\n",
       "      <td>1891-00-00</td>\n",
       "      <td>NaN</td>\n",
       "      <td>NaN</td>\n",
       "      <td>NaN</td>\n",
       "      <td>0000-00-00</td>\n",
       "      <td>NaN</td>\n",
       "      <td>NaN</td>\n",
       "      <td>NaN</td>\n",
       "      <td>NaN</td>\n",
       "      <td>NaN</td>\n",
       "      <td>NaN</td>\n",
       "    </tr>\n",
       "    <tr>\n",
       "      <th>87</th>\n",
       "      <td>1917</td>\n",
       "      <td>482</td>\n",
       "      <td>International Committee of the Red Cross</td>\n",
       "      <td>NaN</td>\n",
       "      <td>peace</td>\n",
       "      <td>org</td>\n",
       "      <td>1</td>\n",
       "      <td>\"for the efforts to take care of wounded soldi...</td>\n",
       "      <td>1863-00-00</td>\n",
       "      <td>NaN</td>\n",
       "      <td>NaN</td>\n",
       "      <td>NaN</td>\n",
       "      <td>0000-00-00</td>\n",
       "      <td>NaN</td>\n",
       "      <td>NaN</td>\n",
       "      <td>NaN</td>\n",
       "      <td>NaN</td>\n",
       "      <td>NaN</td>\n",
       "      <td>NaN</td>\n",
       "    </tr>\n",
       "    <tr>\n",
       "      <th>200</th>\n",
       "      <td>1938</td>\n",
       "      <td>503</td>\n",
       "      <td>Nansen International Office for Refugees</td>\n",
       "      <td>NaN</td>\n",
       "      <td>peace</td>\n",
       "      <td>org</td>\n",
       "      <td>1</td>\n",
       "      <td>\"for having carried on the work of Fridtjof Na...</td>\n",
       "      <td>1921-00-00</td>\n",
       "      <td>NaN</td>\n",
       "      <td>NaN</td>\n",
       "      <td>NaN</td>\n",
       "      <td>0000-00-00</td>\n",
       "      <td>NaN</td>\n",
       "      <td>NaN</td>\n",
       "      <td>NaN</td>\n",
       "      <td>NaN</td>\n",
       "      <td>NaN</td>\n",
       "      <td>NaN</td>\n",
       "    </tr>\n",
       "    <tr>\n",
       "      <th>215</th>\n",
       "      <td>1944</td>\n",
       "      <td>482</td>\n",
       "      <td>International Committee of the Red Cross</td>\n",
       "      <td>NaN</td>\n",
       "      <td>peace</td>\n",
       "      <td>org</td>\n",
       "      <td>1</td>\n",
       "      <td>\"for the great work it has performed during th...</td>\n",
       "      <td>1863-00-00</td>\n",
       "      <td>NaN</td>\n",
       "      <td>NaN</td>\n",
       "      <td>NaN</td>\n",
       "      <td>0000-00-00</td>\n",
       "      <td>NaN</td>\n",
       "      <td>NaN</td>\n",
       "      <td>NaN</td>\n",
       "      <td>NaN</td>\n",
       "      <td>NaN</td>\n",
       "      <td>NaN</td>\n",
       "    </tr>\n",
       "  </tbody>\n",
       "</table>\n",
       "</div>"
      ],
      "text/plain": [
       "     Year  Laureate_Id                                 Firstname Lastname   \n",
       "22   1904          467            Institute of International Law      NaN  \\\n",
       "58   1910          477      Permanent International Peace Bureau      NaN   \n",
       "87   1917          482  International Committee of the Red Cross      NaN   \n",
       "200  1938          503  Nansen International Office for Refugees      NaN   \n",
       "215  1944          482  International Committee of the Red Cross      NaN   \n",
       "\n",
       "    Category Gender  Prize_Share   \n",
       "22     peace    org            1  \\\n",
       "58     peace    org            1   \n",
       "87     peace    org            1   \n",
       "200    peace    org            1   \n",
       "215    peace    org            1   \n",
       "\n",
       "                                            Motivation  Birth_Date   \n",
       "22   \"for its striving in public law to develop pea...  1873-00-00  \\\n",
       "58   \"for acting as a link between the peace societ...  1891-00-00   \n",
       "87   \"for the efforts to take care of wounded soldi...  1863-00-00   \n",
       "200  \"for having carried on the work of Fridtjof Na...  1921-00-00   \n",
       "215  \"for the great work it has performed during th...  1863-00-00   \n",
       "\n",
       "    Birth_Country Birth_City Birth_Country_Code  Death_Date Death_Country   \n",
       "22            NaN        NaN                NaN  0000-00-00           NaN  \\\n",
       "58            NaN        NaN                NaN  0000-00-00           NaN   \n",
       "87            NaN        NaN                NaN  0000-00-00           NaN   \n",
       "200           NaN        NaN                NaN  0000-00-00           NaN   \n",
       "215           NaN        NaN                NaN  0000-00-00           NaN   \n",
       "\n",
       "    Death_City Death_Country_Code Organization_Name Organization_City   \n",
       "22         NaN                NaN               NaN               NaN  \\\n",
       "58         NaN                NaN               NaN               NaN   \n",
       "87         NaN                NaN               NaN               NaN   \n",
       "200        NaN                NaN               NaN               NaN   \n",
       "215        NaN                NaN               NaN               NaN   \n",
       "\n",
       "    Organization_Country  \n",
       "22                   NaN  \n",
       "58                   NaN  \n",
       "87                   NaN  \n",
       "200                  NaN  \n",
       "215                  NaN  "
      ]
     },
     "execution_count": 10,
     "metadata": {},
     "output_type": "execute_result"
    }
   ],
   "source": [
    "# Filter by org in Gender column\n",
    "nobel_df[nobel_df['Gender']=='org'].head()"
   ]
  },
  {
   "attachments": {},
   "cell_type": "markdown",
   "metadata": {},
   "source": [
    "Seems like it just stands for \"organization\" or group. Today I learned organizations can also win Noble Peace prizes. Curious to see if any orgnization has one *multiple* awards:"
   ]
  },
  {
   "cell_type": "code",
   "execution_count": 11,
   "metadata": {},
   "outputs": [
    {
     "data": {
      "text/plain": [
       "Firstname\n",
       "International Committee of the Red Cross                       3\n",
       "Office of the United Nations High Commissioner for Refugees    2\n",
       "Institute of International Law                                 1\n",
       "Doctors Without Borders                                        1\n",
       "Center for Civil Liberties                                     1\n",
       "Name: count, dtype: int64"
      ]
     },
     "execution_count": 11,
     "metadata": {},
     "output_type": "execute_result"
    }
   ],
   "source": [
    "nobel_df[nobel_df['Gender']=='org']['Firstname'].value_counts()[:5] # display the first 5"
   ]
  },
  {
   "attachments": {},
   "cell_type": "markdown",
   "metadata": {},
   "source": [
    "Seems like although difficult, not impossible. Of all the organizations that have gotten Nobel Peace prizes, only $2$ have managed to win multiple.\n",
    "\n",
    "Moving back to the gender analysis. I want to filter out these organizations to get a more accurate proportion."
   ]
  },
  {
   "cell_type": "code",
   "execution_count": 12,
   "metadata": {},
   "outputs": [
    {
     "data": {
      "image/png": "[encoded data removed]",
      "text/plain": [
       "<Figure size 640x480 with 1 Axes>"
      ]
     },
     "metadata": {},
     "output_type": "display_data"
    }
   ],
   "source": [
    "# filter out organizations\n",
    "without_org_df = nobel_df[nobel_df['Gender']!='org']\n",
    "\n",
    "plt.title('Countplot of Nobel Laureate Winners by Gender (Without \"org\")')\n",
    "ax = sns.countplot(x=without_org_df['Gender'],\n",
    "                   order=without_org_df['Gender'].value_counts().index, edgecolor='black') # order by desc\n",
    "\n",
    "# Call helper function\n",
    "count_plot_with_percent(ax, without_org_df.Gender)"
   ]
  },
  {
   "attachments": {},
   "cell_type": "markdown",
   "metadata": {},
   "source": [
    "Yup, the proportion gap is only wider (simple math can confirm this). There are nearly $15$ times more male Nobel Laureates than Female Laureates.\n",
    "\n",
    "Checking who was the first female Nobel Laureate:"
   ]
  },
  {
   "cell_type": "code",
   "execution_count": 13,
   "metadata": {},
   "outputs": [
    {
     "data": {
      "text/html": [
       "<div>\n",
       "<style scoped>\n",
       "    .dataframe tbody tr th:only-of-type {\n",
       "        vertical-align: middle;\n",
       "    }\n",
       "\n",
       "    .dataframe tbody tr th {\n",
       "        vertical-align: top;\n",
       "    }\n",
       "\n",
       "    .dataframe thead th {\n",
       "        text-align: right;\n",
       "    }\n",
       "</style>\n",
       "<table border=\"1\" class=\"dataframe\">\n",
       "  <thead>\n",
       "    <tr style=\"text-align: right;\">\n",
       "      <th></th>\n",
       "      <th>Year</th>\n",
       "      <th>Firstname</th>\n",
       "      <th>Lastname</th>\n",
       "      <th>Category</th>\n",
       "      <th>Gender</th>\n",
       "    </tr>\n",
       "  </thead>\n",
       "  <tbody>\n",
       "    <tr>\n",
       "      <th>16</th>\n",
       "      <td>1903</td>\n",
       "      <td>Marie</td>\n",
       "      <td>Curie</td>\n",
       "      <td>physics</td>\n",
       "      <td>female</td>\n",
       "    </tr>\n",
       "    <tr>\n",
       "      <th>29</th>\n",
       "      <td>1905</td>\n",
       "      <td>Bertha</td>\n",
       "      <td>von Suttner</td>\n",
       "      <td>peace</td>\n",
       "      <td>female</td>\n",
       "    </tr>\n",
       "    <tr>\n",
       "      <th>52</th>\n",
       "      <td>1909</td>\n",
       "      <td>Selma</td>\n",
       "      <td>Lagerlöf</td>\n",
       "      <td>literature</td>\n",
       "      <td>female</td>\n",
       "    </tr>\n",
       "    <tr>\n",
       "      <th>64</th>\n",
       "      <td>1911</td>\n",
       "      <td>Marie</td>\n",
       "      <td>Curie</td>\n",
       "      <td>chemistry</td>\n",
       "      <td>female</td>\n",
       "    </tr>\n",
       "    <tr>\n",
       "      <th>129</th>\n",
       "      <td>1926</td>\n",
       "      <td>Grazia</td>\n",
       "      <td>Deledda</td>\n",
       "      <td>literature</td>\n",
       "      <td>female</td>\n",
       "    </tr>\n",
       "  </tbody>\n",
       "</table>\n",
       "</div>"
      ],
      "text/plain": [
       "     Year Firstname     Lastname    Category  Gender\n",
       "16   1903     Marie        Curie     physics  female\n",
       "29   1905    Bertha  von Suttner       peace  female\n",
       "52   1909     Selma     Lagerlöf  literature  female\n",
       "64   1911     Marie        Curie   chemistry  female\n",
       "129  1926    Grazia      Deledda  literature  female"
      ]
     },
     "execution_count": 13,
     "metadata": {},
     "output_type": "execute_result"
    }
   ],
   "source": [
    "nobel_df[nobel_df['Gender']=='female'].sort_values('Year', ascending=True).head()[['Year', 'Firstname', 'Lastname',\n",
    "                                                                                   'Category','Gender']]"
   ]
  },
  {
   "attachments": {},
   "cell_type": "markdown",
   "metadata": {},
   "source": [
    "$1903$! Well this is surprising. Considering the dataset starts at $1901$, a female received the Nobel Prize only $2$ years after. I was under the assumption that there was some gender inequality thing going on during those times. This doesn't imply there wasn't (there clearly was), but I just find it suprisingly that despite the largely male dominated norms back then, a woman was able to win a Nobel Prize so soon. Looking at the time between the Nobel Prize years, it seems like there are larger intervals of time in which women have not won a Nobel Prize, as shown by the large gap between $1911$ and $1926$ Looking into this further can maybe shed some more insight on why there is such a large proportion gap in Nobel Laureates between genders; another question that can be investigated in a future project."
   ]
  },
  {
   "attachments": {},
   "cell_type": "markdown",
   "metadata": {},
   "source": [
    "#### Q3ii. Winner in each subject category by gender"
   ]
  },
  {
   "attachments": {},
   "cell_type": "markdown",
   "metadata": {},
   "source": [
    "Using a seaborn countplot again, but this time adding in `Gender` as a `hue` variable:"
   ]
  },
  {
   "cell_type": "code",
   "execution_count": 14,
   "metadata": {},
   "outputs": [
    {
     "data": {
      "image/png": "[encoded data removed]",
      "text/plain": [
       "<Figure size 640x480 with 1 Axes>"
      ]
     },
     "metadata": {},
     "output_type": "display_data"
    }
   ],
   "source": [
    "# filter out organizations\n",
    "without_org_df = nobel_df[nobel_df['Gender']!='org']\n",
    "\n",
    "# plot with hue='Gender'\n",
    "plt.title('Countplot of Nobel Laureate Winners by Category & Gender')\n",
    "ax = sns.countplot(x='Category', hue='Gender', data=without_org_df, edgecolor='black')\n",
    "\n",
    "# add count labels\n",
    "for label in ax.containers:\n",
    "    ax.bar_label(label)"
   ]
  },
  {
   "attachments": {},
   "cell_type": "markdown",
   "metadata": {},
   "source": [
    "This countplot shows some very interesting trends. Yes, I have already shown that there are more male Nobel Laureates than female Nobel Laureates, but what is suprisingly is the difference in `Category` these laureates have received. If grouped by gender, it appears that women are *more likely* to receive prizes in \"peace\" and \"literature\" than men; men are more likely to have recieved prizes in \"physics,\" \"medicine,\" and \"chemistry.\" Could this be a potential indicator for the disproportionate number of males in STEM careers and fields? Once again, this could be a question worth investigating."
   ]
  },
  {
   "attachments": {},
   "cell_type": "markdown",
   "metadata": {},
   "source": [
    "## Preprocesssing"
   ]
  },
  {
   "attachments": {},
   "cell_type": "markdown",
   "metadata": {},
   "source": [
    "I ultimately want to create a heatmap of the birthdates of Nobel Laureates. As previously checked, there are no null values in this column, so I won't have to do any imputation.\n",
    "\n",
    "I do also want to work with their `Birth_Country`, but country names have changed from $1901$ to present day. Thus, I will need to use some regex to extract their present birth country.\n",
    "\n",
    "So to start, I check for nulls:"
   ]
  },
  {
   "cell_type": "code",
   "execution_count": 39,
   "metadata": {},
   "outputs": [
    {
     "data": {
      "text/html": [
       "<div>\n",
       "<style scoped>\n",
       "    .dataframe tbody tr th:only-of-type {\n",
       "        vertical-align: middle;\n",
       "    }\n",
       "\n",
       "    .dataframe tbody tr th {\n",
       "        vertical-align: top;\n",
       "    }\n",
       "\n",
       "    .dataframe thead th {\n",
       "        text-align: right;\n",
       "    }\n",
       "</style>\n",
       "<table border=\"1\" class=\"dataframe\">\n",
       "  <thead>\n",
       "    <tr style=\"text-align: right;\">\n",
       "      <th></th>\n",
       "      <th>Firstname</th>\n",
       "      <th>Lastname</th>\n",
       "      <th>Birth_Country</th>\n",
       "    </tr>\n",
       "  </thead>\n",
       "  <tbody>\n",
       "    <tr>\n",
       "      <th>22</th>\n",
       "      <td>Institute of International Law</td>\n",
       "      <td>NaN</td>\n",
       "      <td>NaN</td>\n",
       "    </tr>\n",
       "    <tr>\n",
       "      <th>58</th>\n",
       "      <td>Permanent International Peace Bureau</td>\n",
       "      <td>NaN</td>\n",
       "      <td>NaN</td>\n",
       "    </tr>\n",
       "    <tr>\n",
       "      <th>87</th>\n",
       "      <td>International Committee of the Red Cross</td>\n",
       "      <td>NaN</td>\n",
       "      <td>NaN</td>\n",
       "    </tr>\n",
       "    <tr>\n",
       "      <th>200</th>\n",
       "      <td>Nansen International Office for Refugees</td>\n",
       "      <td>NaN</td>\n",
       "      <td>NaN</td>\n",
       "    </tr>\n",
       "    <tr>\n",
       "      <th>215</th>\n",
       "      <td>International Committee of the Red Cross</td>\n",
       "      <td>NaN</td>\n",
       "      <td>NaN</td>\n",
       "    </tr>\n",
       "  </tbody>\n",
       "</table>\n",
       "</div>"
      ],
      "text/plain": [
       "                                    Firstname Lastname Birth_Country\n",
       "22             Institute of International Law      NaN           NaN\n",
       "58       Permanent International Peace Bureau      NaN           NaN\n",
       "87   International Committee of the Red Cross      NaN           NaN\n",
       "200  Nansen International Office for Refugees      NaN           NaN\n",
       "215  International Committee of the Red Cross      NaN           NaN"
      ]
     },
     "execution_count": 39,
     "metadata": {},
     "output_type": "execute_result"
    }
   ],
   "source": [
    "# Checking for null values in 'Birth_Country' column\n",
    "nobel_df[nobel_df['Birth_Country'].isna()].head()[['Firstname', 'Lastname', 'Birth_Country']]"
   ]
  },
  {
   "attachments": {},
   "cell_type": "markdown",
   "metadata": {},
   "source": [
    "Unfortunately null values do exist in `Birth_Country`, but it seems like it is only the case for organizations, which makes sense for them to not have a `Birth_Country`. To take care of this, I will be simply removing these rows from the dataframe, which was already done and stored in `without_org_df`.\n",
    "\n",
    "Checking again for nulls:"
   ]
  },
  {
   "cell_type": "code",
   "execution_count": 52,
   "metadata": {},
   "outputs": [
    {
     "data": {
      "text/html": [
       "<div>\n",
       "<style scoped>\n",
       "    .dataframe tbody tr th:only-of-type {\n",
       "        vertical-align: middle;\n",
       "    }\n",
       "\n",
       "    .dataframe tbody tr th {\n",
       "        vertical-align: top;\n",
       "    }\n",
       "\n",
       "    .dataframe thead th {\n",
       "        text-align: right;\n",
       "    }\n",
       "</style>\n",
       "<table border=\"1\" class=\"dataframe\">\n",
       "  <thead>\n",
       "    <tr style=\"text-align: right;\">\n",
       "      <th></th>\n",
       "      <th>Year</th>\n",
       "      <th>Laureate_Id</th>\n",
       "      <th>Firstname</th>\n",
       "      <th>Lastname</th>\n",
       "      <th>Category</th>\n",
       "      <th>Gender</th>\n",
       "      <th>Prize_Share</th>\n",
       "      <th>Motivation</th>\n",
       "      <th>Birth_Date</th>\n",
       "      <th>Birth_Country</th>\n",
       "      <th>Birth_City</th>\n",
       "      <th>Birth_Country_Code</th>\n",
       "      <th>Death_Date</th>\n",
       "      <th>Death_Country</th>\n",
       "      <th>Death_City</th>\n",
       "      <th>Death_Country_Code</th>\n",
       "      <th>Organization_Name</th>\n",
       "      <th>Organization_City</th>\n",
       "      <th>Organization_Country</th>\n",
       "    </tr>\n",
       "  </thead>\n",
       "  <tbody>\n",
       "    <tr>\n",
       "      <th>962</th>\n",
       "      <td>2021</td>\n",
       "      <td>1004</td>\n",
       "      <td>Abdulrazak</td>\n",
       "      <td>Gurnah</td>\n",
       "      <td>literature</td>\n",
       "      <td>male</td>\n",
       "      <td>1</td>\n",
       "      <td>\"for his uncompromising and compassionate pene...</td>\n",
       "      <td>1948-00-00</td>\n",
       "      <td>NaN</td>\n",
       "      <td>NaN</td>\n",
       "      <td>NaN</td>\n",
       "      <td>0000-00-00</td>\n",
       "      <td>NaN</td>\n",
       "      <td>NaN</td>\n",
       "      <td>NaN</td>\n",
       "      <td>NaN</td>\n",
       "      <td>NaN</td>\n",
       "      <td>NaN</td>\n",
       "    </tr>\n",
       "  </tbody>\n",
       "</table>\n",
       "</div>"
      ],
      "text/plain": [
       "     Year  Laureate_Id   Firstname Lastname    Category Gender  Prize_Share   \n",
       "962  2021         1004  Abdulrazak   Gurnah  literature   male            1  \\\n",
       "\n",
       "                                            Motivation  Birth_Date   \n",
       "962  \"for his uncompromising and compassionate pene...  1948-00-00  \\\n",
       "\n",
       "    Birth_Country Birth_City Birth_Country_Code  Death_Date Death_Country   \n",
       "962           NaN        NaN                NaN  0000-00-00           NaN  \\\n",
       "\n",
       "    Death_City Death_Country_Code Organization_Name Organization_City   \n",
       "962        NaN                NaN               NaN               NaN  \\\n",
       "\n",
       "    Organization_Country  \n",
       "962                  NaN  "
      ]
     },
     "execution_count": 52,
     "metadata": {},
     "output_type": "execute_result"
    }
   ],
   "source": [
    "# Checking to see if there are still null values in 'Birth_Country' column\n",
    "without_org_df[without_org_df['Birth_Country'].isna()]"
   ]
  },
  {
   "attachments": {},
   "cell_type": "markdown",
   "metadata": {},
   "source": [
    "Another outlier. From a look at the [wikipedia page](https://en.wikipedia.org/wiki/Abdulrazak_Gurnah) he seems to be born in the [Sultanate of Zanzibar](https://en.wikipedia.org/wiki/Sultanate_of_Zanzibar). Despite spending a whopping $30$ seconds perusing through the $2$ wikipedia pages, I still can't figure out what present day country this place has now become. So I CBA, I'll just assume it is \"Zanzibar.\"\n",
    "\n",
    "Performing this imputation:"
   ]
  },
  {
   "cell_type": "code",
   "execution_count": 56,
   "metadata": {},
   "outputs": [
    {
     "data": {
      "text/html": [
       "<div>\n",
       "<style scoped>\n",
       "    .dataframe tbody tr th:only-of-type {\n",
       "        vertical-align: middle;\n",
       "    }\n",
       "\n",
       "    .dataframe tbody tr th {\n",
       "        vertical-align: top;\n",
       "    }\n",
       "\n",
       "    .dataframe thead th {\n",
       "        text-align: right;\n",
       "    }\n",
       "</style>\n",
       "<table border=\"1\" class=\"dataframe\">\n",
       "  <thead>\n",
       "    <tr style=\"text-align: right;\">\n",
       "      <th></th>\n",
       "      <th>Year</th>\n",
       "      <th>Laureate_Id</th>\n",
       "      <th>Firstname</th>\n",
       "      <th>Lastname</th>\n",
       "      <th>Category</th>\n",
       "      <th>Gender</th>\n",
       "      <th>Prize_Share</th>\n",
       "      <th>Motivation</th>\n",
       "      <th>Birth_Date</th>\n",
       "      <th>Birth_Country</th>\n",
       "      <th>Birth_City</th>\n",
       "      <th>Birth_Country_Code</th>\n",
       "      <th>Death_Date</th>\n",
       "      <th>Death_Country</th>\n",
       "      <th>Death_City</th>\n",
       "      <th>Death_Country_Code</th>\n",
       "      <th>Organization_Name</th>\n",
       "      <th>Organization_City</th>\n",
       "      <th>Organization_Country</th>\n",
       "    </tr>\n",
       "  </thead>\n",
       "  <tbody>\n",
       "    <tr>\n",
       "      <th>962</th>\n",
       "      <td>2021</td>\n",
       "      <td>1004</td>\n",
       "      <td>Abdulrazak</td>\n",
       "      <td>Gurnah</td>\n",
       "      <td>literature</td>\n",
       "      <td>male</td>\n",
       "      <td>1</td>\n",
       "      <td>\"for his uncompromising and compassionate pene...</td>\n",
       "      <td>1948-00-00</td>\n",
       "      <td>Zanzibar</td>\n",
       "      <td>NaN</td>\n",
       "      <td>NaN</td>\n",
       "      <td>0000-00-00</td>\n",
       "      <td>NaN</td>\n",
       "      <td>NaN</td>\n",
       "      <td>NaN</td>\n",
       "      <td>NaN</td>\n",
       "      <td>NaN</td>\n",
       "      <td>NaN</td>\n",
       "    </tr>\n",
       "  </tbody>\n",
       "</table>\n",
       "</div>"
      ],
      "text/plain": [
       "     Year  Laureate_Id   Firstname Lastname    Category Gender  Prize_Share   \n",
       "962  2021         1004  Abdulrazak   Gurnah  literature   male            1  \\\n",
       "\n",
       "                                            Motivation  Birth_Date   \n",
       "962  \"for his uncompromising and compassionate pene...  1948-00-00  \\\n",
       "\n",
       "    Birth_Country Birth_City Birth_Country_Code  Death_Date Death_Country   \n",
       "962      Zanzibar        NaN                NaN  0000-00-00           NaN  \\\n",
       "\n",
       "    Death_City Death_Country_Code Organization_Name Organization_City   \n",
       "962        NaN                NaN               NaN               NaN  \\\n",
       "\n",
       "    Organization_Country  \n",
       "962                  NaN  "
      ]
     },
     "execution_count": 56,
     "metadata": {},
     "output_type": "execute_result"
    }
   ],
   "source": [
    "# impute 'Zanzibar' into row with null value\n",
    "without_org_df.loc[without_org_df['Birth_Country'].isna(), 'Birth_Country'] = 'Zanzibar'\n",
    "\n",
    "# check\n",
    "without_org_df[without_org_df['Birth_Country']=='Zanzibar']"
   ]
  },
  {
   "cell_type": "code",
   "execution_count": 63,
   "metadata": {},
   "outputs": [
    {
     "data": {
      "text/html": [
       "<div>\n",
       "<style scoped>\n",
       "    .dataframe tbody tr th:only-of-type {\n",
       "        vertical-align: middle;\n",
       "    }\n",
       "\n",
       "    .dataframe tbody tr th {\n",
       "        vertical-align: top;\n",
       "    }\n",
       "\n",
       "    .dataframe thead th {\n",
       "        text-align: right;\n",
       "    }\n",
       "</style>\n",
       "<table border=\"1\" class=\"dataframe\">\n",
       "  <thead>\n",
       "    <tr style=\"text-align: right;\">\n",
       "      <th></th>\n",
       "      <th>Firstname</th>\n",
       "      <th>Lastname</th>\n",
       "      <th>Birth_Country</th>\n",
       "    </tr>\n",
       "  </thead>\n",
       "  <tbody>\n",
       "    <tr>\n",
       "      <th>0</th>\n",
       "      <td>Wilhelm Conrad</td>\n",
       "      <td>Röntgen</td>\n",
       "      <td>Prussia (now Germany)</td>\n",
       "    </tr>\n",
       "    <tr>\n",
       "      <th>1</th>\n",
       "      <td>Emil</td>\n",
       "      <td>von Behring</td>\n",
       "      <td>Prussia (now Poland)</td>\n",
       "    </tr>\n",
       "    <tr>\n",
       "      <th>6</th>\n",
       "      <td>Emil</td>\n",
       "      <td>Fischer</td>\n",
       "      <td>Prussia (now Germany)</td>\n",
       "    </tr>\n",
       "    <tr>\n",
       "      <th>7</th>\n",
       "      <td>Theodor</td>\n",
       "      <td>Mommsen</td>\n",
       "      <td>Schleswig (now Germany)</td>\n",
       "    </tr>\n",
       "    <tr>\n",
       "      <th>16</th>\n",
       "      <td>Marie</td>\n",
       "      <td>Curie</td>\n",
       "      <td>Russian Empire (now Poland)</td>\n",
       "    </tr>\n",
       "    <tr>\n",
       "      <th>17</th>\n",
       "      <td>Niels Ryberg</td>\n",
       "      <td>Finsen</td>\n",
       "      <td>Faroe Islands (Denmark)</td>\n",
       "    </tr>\n",
       "    <tr>\n",
       "      <th>26</th>\n",
       "      <td>Adolf</td>\n",
       "      <td>von Baeyer</td>\n",
       "      <td>Prussia (now Germany)</td>\n",
       "    </tr>\n",
       "    <tr>\n",
       "      <th>28</th>\n",
       "      <td>Philipp</td>\n",
       "      <td>Lenard</td>\n",
       "      <td>Hungary (now Slovakia)</td>\n",
       "    </tr>\n",
       "    <tr>\n",
       "      <th>29</th>\n",
       "      <td>Bertha</td>\n",
       "      <td>von Suttner</td>\n",
       "      <td>Austrian Empire (now Czech Republic)</td>\n",
       "    </tr>\n",
       "    <tr>\n",
       "      <th>31</th>\n",
       "      <td>Giosuè</td>\n",
       "      <td>Carducci</td>\n",
       "      <td>Tuscany (now Italy)</td>\n",
       "    </tr>\n",
       "  </tbody>\n",
       "</table>\n",
       "</div>"
      ],
      "text/plain": [
       "         Firstname     Lastname                         Birth_Country\n",
       "0   Wilhelm Conrad      Röntgen                 Prussia (now Germany)\n",
       "1             Emil  von Behring                  Prussia (now Poland)\n",
       "6             Emil      Fischer                 Prussia (now Germany)\n",
       "7          Theodor      Mommsen               Schleswig (now Germany)\n",
       "16           Marie        Curie           Russian Empire (now Poland)\n",
       "17    Niels Ryberg       Finsen               Faroe Islands (Denmark)\n",
       "26           Adolf   von Baeyer                 Prussia (now Germany)\n",
       "28         Philipp       Lenard                Hungary (now Slovakia)\n",
       "29          Bertha  von Suttner  Austrian Empire (now Czech Republic)\n",
       "31          Giosuè     Carducci                   Tuscany (now Italy)"
      ]
     },
     "execution_count": 63,
     "metadata": {},
     "output_type": "execute_result"
    }
   ],
   "source": [
    "# Checking for countries that have no \"changed names\"\n",
    "without_org_df[without_org_df['Birth_Country'].str.contains('\\(')][['Firstname', 'Lastname', 'Birth_Country']].head(10)"
   ]
  },
  {
   "attachments": {},
   "cell_type": "markdown",
   "metadata": {},
   "source": [
    "There seems to be a pattern that the modern country name is within parentheses \"()\" and is preceded by the word \"now.\" Thus, to get the modern country name, a simple regex pattern can be used.\n",
    "\n",
    "But of course, upon looking at a closer, row with index $17$ contains just \"Denmark\" with no \"now\" word preceding (literally JUST THIS ROW). I will impute the value of Denmark\" into this row first:"
   ]
  },
  {
   "cell_type": "code",
   "execution_count": 75,
   "metadata": {},
   "outputs": [
    {
     "data": {
      "text/plain": [
       "'Denmark'"
      ]
     },
     "execution_count": 75,
     "metadata": {},
     "output_type": "execute_result"
    }
   ],
   "source": [
    "# impute\n",
    "without_org_df.loc[17, 'Birth_Country'] = 'Denmark'\n",
    "\n",
    "# Check\n",
    "without_org_df.loc[17].Birth_Country"
   ]
  },
  {
   "attachments": {},
   "cell_type": "markdown",
   "metadata": {},
   "source": [
    "Now, finally moving on to creating my new feature, `present_birth_country`:"
   ]
  },
  {
   "cell_type": "code",
   "execution_count": 78,
   "metadata": {},
   "outputs": [
    {
     "data": {
      "text/plain": [
       "['Germany', 'Poland', 'Switzerland', 'France', 'France']"
      ]
     },
     "execution_count": 78,
     "metadata": {},
     "output_type": "execute_result"
    }
   ],
   "source": [
    "birth_country_arr = without_org_df['Birth_Country'] # get all birth countries\n",
    "\n",
    "present_birth_arr = [] # instantaite empty array\n",
    "for birth_country in birth_country_arr:\n",
    "    if \"(\" in birth_country: # use regex pattern to extract country\n",
    "        present_birth_arr.append(re.findall(present_country_pat, birth_country)[0]) # 0th item in array\n",
    "    else:\n",
    "        present_birth_arr.append(birth_country)\n",
    "\n",
    "present_birth_arr[:5] # taking a peek"
   ]
  },
  {
   "attachments": {},
   "cell_type": "markdown",
   "metadata": {},
   "source": [
    "Looks good. Time to add this as a feature into the DataFrame:"
   ]
  },
  {
   "cell_type": "code",
   "execution_count": 85,
   "metadata": {},
   "outputs": [
    {
     "data": {
      "text/html": [
       "<div>\n",
       "<style scoped>\n",
       "    .dataframe tbody tr th:only-of-type {\n",
       "        vertical-align: middle;\n",
       "    }\n",
       "\n",
       "    .dataframe tbody tr th {\n",
       "        vertical-align: top;\n",
       "    }\n",
       "\n",
       "    .dataframe thead th {\n",
       "        text-align: right;\n",
       "    }\n",
       "</style>\n",
       "<table border=\"1\" class=\"dataframe\">\n",
       "  <thead>\n",
       "    <tr style=\"text-align: right;\">\n",
       "      <th></th>\n",
       "      <th>Year</th>\n",
       "      <th>Laureate_Id</th>\n",
       "      <th>Firstname</th>\n",
       "      <th>Lastname</th>\n",
       "      <th>Category</th>\n",
       "      <th>Gender</th>\n",
       "      <th>Prize_Share</th>\n",
       "      <th>Motivation</th>\n",
       "      <th>Birth_Date</th>\n",
       "      <th>Birth_Country</th>\n",
       "      <th>Birth_City</th>\n",
       "      <th>Birth_Country_Code</th>\n",
       "      <th>Death_Date</th>\n",
       "      <th>Death_Country</th>\n",
       "      <th>Death_City</th>\n",
       "      <th>Death_Country_Code</th>\n",
       "      <th>Organization_Name</th>\n",
       "      <th>Organization_City</th>\n",
       "      <th>Organization_Country</th>\n",
       "      <th>present_birth_country</th>\n",
       "    </tr>\n",
       "  </thead>\n",
       "  <tbody>\n",
       "    <tr>\n",
       "      <th>0</th>\n",
       "      <td>1901</td>\n",
       "      <td>1</td>\n",
       "      <td>Wilhelm Conrad</td>\n",
       "      <td>Röntgen</td>\n",
       "      <td>physics</td>\n",
       "      <td>male</td>\n",
       "      <td>1</td>\n",
       "      <td>\"in recognition of the extraordinary services ...</td>\n",
       "      <td>1845-03-27</td>\n",
       "      <td>Prussia (now Germany)</td>\n",
       "      <td>Lennep (now Remscheid)</td>\n",
       "      <td>DE</td>\n",
       "      <td>10-02-1923</td>\n",
       "      <td>Germany</td>\n",
       "      <td>Munich</td>\n",
       "      <td>DE</td>\n",
       "      <td>Munich University</td>\n",
       "      <td>Munich</td>\n",
       "      <td>Germany</td>\n",
       "      <td>Germany</td>\n",
       "    </tr>\n",
       "    <tr>\n",
       "      <th>1</th>\n",
       "      <td>1901</td>\n",
       "      <td>293</td>\n",
       "      <td>Emil</td>\n",
       "      <td>von Behring</td>\n",
       "      <td>medicine</td>\n",
       "      <td>male</td>\n",
       "      <td>1</td>\n",
       "      <td>\"for his work on serum therapy especially its ...</td>\n",
       "      <td>1854-03-15</td>\n",
       "      <td>Prussia (now Poland)</td>\n",
       "      <td>Hansdorf (now Lawice)</td>\n",
       "      <td>PL</td>\n",
       "      <td>31-03-1917</td>\n",
       "      <td>Germany</td>\n",
       "      <td>Marburg</td>\n",
       "      <td>DE</td>\n",
       "      <td>Marburg University</td>\n",
       "      <td>Marburg</td>\n",
       "      <td>Germany</td>\n",
       "      <td>Poland</td>\n",
       "    </tr>\n",
       "    <tr>\n",
       "      <th>2</th>\n",
       "      <td>1901</td>\n",
       "      <td>462</td>\n",
       "      <td>Henry</td>\n",
       "      <td>Dunant</td>\n",
       "      <td>peace</td>\n",
       "      <td>male</td>\n",
       "      <td>2</td>\n",
       "      <td>\"for his humanitarian efforts to help wounded ...</td>\n",
       "      <td>1828-05-08</td>\n",
       "      <td>Switzerland</td>\n",
       "      <td>Geneva</td>\n",
       "      <td>CH</td>\n",
       "      <td>30-10-1910</td>\n",
       "      <td>Switzerland</td>\n",
       "      <td>Heiden</td>\n",
       "      <td>CH</td>\n",
       "      <td>NaN</td>\n",
       "      <td>NaN</td>\n",
       "      <td>NaN</td>\n",
       "      <td>Switzerland</td>\n",
       "    </tr>\n",
       "    <tr>\n",
       "      <th>3</th>\n",
       "      <td>1901</td>\n",
       "      <td>463</td>\n",
       "      <td>Frédéric</td>\n",
       "      <td>Passy</td>\n",
       "      <td>peace</td>\n",
       "      <td>male</td>\n",
       "      <td>2</td>\n",
       "      <td>\"for his lifelong work for international peace...</td>\n",
       "      <td>1822-05-20</td>\n",
       "      <td>France</td>\n",
       "      <td>Paris</td>\n",
       "      <td>FR</td>\n",
       "      <td>12-06-1912</td>\n",
       "      <td>France</td>\n",
       "      <td>Paris</td>\n",
       "      <td>FR</td>\n",
       "      <td>NaN</td>\n",
       "      <td>NaN</td>\n",
       "      <td>NaN</td>\n",
       "      <td>France</td>\n",
       "    </tr>\n",
       "    <tr>\n",
       "      <th>4</th>\n",
       "      <td>1901</td>\n",
       "      <td>569</td>\n",
       "      <td>Sully</td>\n",
       "      <td>Prudhomme</td>\n",
       "      <td>literature</td>\n",
       "      <td>male</td>\n",
       "      <td>1</td>\n",
       "      <td>\"in special recognition of his poetic composit...</td>\n",
       "      <td>1839-03-16</td>\n",
       "      <td>France</td>\n",
       "      <td>Paris</td>\n",
       "      <td>FR</td>\n",
       "      <td>07-09-1907</td>\n",
       "      <td>France</td>\n",
       "      <td>Châtenay</td>\n",
       "      <td>FR</td>\n",
       "      <td>NaN</td>\n",
       "      <td>NaN</td>\n",
       "      <td>NaN</td>\n",
       "      <td>France</td>\n",
       "    </tr>\n",
       "  </tbody>\n",
       "</table>\n",
       "</div>"
      ],
      "text/plain": [
       "   Year  Laureate_Id       Firstname     Lastname    Category Gender   \n",
       "0  1901            1  Wilhelm Conrad      Röntgen     physics   male  \\\n",
       "1  1901          293            Emil  von Behring    medicine   male   \n",
       "2  1901          462           Henry       Dunant       peace   male   \n",
       "3  1901          463        Frédéric        Passy       peace   male   \n",
       "4  1901          569           Sully    Prudhomme  literature   male   \n",
       "\n",
       "   Prize_Share                                         Motivation  Birth_Date   \n",
       "0            1  \"in recognition of the extraordinary services ...  1845-03-27  \\\n",
       "1            1  \"for his work on serum therapy especially its ...  1854-03-15   \n",
       "2            2  \"for his humanitarian efforts to help wounded ...  1828-05-08   \n",
       "3            2  \"for his lifelong work for international peace...  1822-05-20   \n",
       "4            1  \"in special recognition of his poetic composit...  1839-03-16   \n",
       "\n",
       "           Birth_Country              Birth_City Birth_Country_Code   \n",
       "0  Prussia (now Germany)  Lennep (now Remscheid)                 DE  \\\n",
       "1   Prussia (now Poland)   Hansdorf (now Lawice)                 PL   \n",
       "2            Switzerland                  Geneva                 CH   \n",
       "3                 France                   Paris                 FR   \n",
       "4                 France                   Paris                 FR   \n",
       "\n",
       "   Death_Date Death_Country Death_City Death_Country_Code   Organization_Name   \n",
       "0  10-02-1923       Germany     Munich                 DE   Munich University  \\\n",
       "1  31-03-1917       Germany    Marburg                 DE  Marburg University   \n",
       "2  30-10-1910   Switzerland     Heiden                 CH                 NaN   \n",
       "3  12-06-1912        France      Paris                 FR                 NaN   \n",
       "4  07-09-1907        France   Châtenay                 FR                 NaN   \n",
       "\n",
       "  Organization_City Organization_Country present_birth_country  \n",
       "0            Munich              Germany               Germany  \n",
       "1           Marburg              Germany                Poland  \n",
       "2               NaN                  NaN           Switzerland  \n",
       "3               NaN                  NaN                France  \n",
       "4               NaN                  NaN                France  "
      ]
     },
     "execution_count": 85,
     "metadata": {},
     "output_type": "execute_result"
    }
   ],
   "source": [
    "# add column\n",
    "without_org_df['present_birth_country'] = present_birth_arr\n",
    "\n",
    "# check\n",
    "without_org_df.head()"
   ]
  },
  {
   "attachments": {},
   "cell_type": "markdown",
   "metadata": {},
   "source": [
    "Successfully added.\n",
    "\n",
    "Next thing I want to do is project the columns of interest for the heatmap. I've decided to keep the following columns:\n",
    "\n",
    "* `Year`\n",
    "* `Firstname`\n",
    "* `Lastname`\n",
    "* `Category`\n",
    "* `Gender`\n",
    "* `Birth_Date`\n",
    "* `Birth_Country_Code`\n",
    "* `present_birth_country`"
   ]
  },
  {
   "cell_type": "code",
   "execution_count": 89,
   "metadata": {},
   "outputs": [
    {
     "data": {
      "text/html": [
       "<div>\n",
       "<style scoped>\n",
       "    .dataframe tbody tr th:only-of-type {\n",
       "        vertical-align: middle;\n",
       "    }\n",
       "\n",
       "    .dataframe tbody tr th {\n",
       "        vertical-align: top;\n",
       "    }\n",
       "\n",
       "    .dataframe thead th {\n",
       "        text-align: right;\n",
       "    }\n",
       "</style>\n",
       "<table border=\"1\" class=\"dataframe\">\n",
       "  <thead>\n",
       "    <tr style=\"text-align: right;\">\n",
       "      <th></th>\n",
       "      <th>Year</th>\n",
       "      <th>Firstname</th>\n",
       "      <th>Lastname</th>\n",
       "      <th>Category</th>\n",
       "      <th>Gender</th>\n",
       "      <th>Birth_Date</th>\n",
       "      <th>Birth_Country_Code</th>\n",
       "      <th>present_birth_country</th>\n",
       "    </tr>\n",
       "  </thead>\n",
       "  <tbody>\n",
       "    <tr>\n",
       "      <th>0</th>\n",
       "      <td>1901</td>\n",
       "      <td>Wilhelm Conrad</td>\n",
       "      <td>Röntgen</td>\n",
       "      <td>physics</td>\n",
       "      <td>male</td>\n",
       "      <td>1845-03-27</td>\n",
       "      <td>DE</td>\n",
       "      <td>Germany</td>\n",
       "    </tr>\n",
       "    <tr>\n",
       "      <th>1</th>\n",
       "      <td>1901</td>\n",
       "      <td>Emil</td>\n",
       "      <td>von Behring</td>\n",
       "      <td>medicine</td>\n",
       "      <td>male</td>\n",
       "      <td>1854-03-15</td>\n",
       "      <td>PL</td>\n",
       "      <td>Poland</td>\n",
       "    </tr>\n",
       "    <tr>\n",
       "      <th>2</th>\n",
       "      <td>1901</td>\n",
       "      <td>Henry</td>\n",
       "      <td>Dunant</td>\n",
       "      <td>peace</td>\n",
       "      <td>male</td>\n",
       "      <td>1828-05-08</td>\n",
       "      <td>CH</td>\n",
       "      <td>Switzerland</td>\n",
       "    </tr>\n",
       "    <tr>\n",
       "      <th>3</th>\n",
       "      <td>1901</td>\n",
       "      <td>Frédéric</td>\n",
       "      <td>Passy</td>\n",
       "      <td>peace</td>\n",
       "      <td>male</td>\n",
       "      <td>1822-05-20</td>\n",
       "      <td>FR</td>\n",
       "      <td>France</td>\n",
       "    </tr>\n",
       "    <tr>\n",
       "      <th>4</th>\n",
       "      <td>1901</td>\n",
       "      <td>Sully</td>\n",
       "      <td>Prudhomme</td>\n",
       "      <td>literature</td>\n",
       "      <td>male</td>\n",
       "      <td>1839-03-16</td>\n",
       "      <td>FR</td>\n",
       "      <td>France</td>\n",
       "    </tr>\n",
       "    <tr>\n",
       "      <th>5</th>\n",
       "      <td>1901</td>\n",
       "      <td>Jacobus H.</td>\n",
       "      <td>van 't Hoff</td>\n",
       "      <td>chemistry</td>\n",
       "      <td>male</td>\n",
       "      <td>1852-08-30</td>\n",
       "      <td>NL</td>\n",
       "      <td>the Netherlands</td>\n",
       "    </tr>\n",
       "    <tr>\n",
       "      <th>6</th>\n",
       "      <td>1902</td>\n",
       "      <td>Emil</td>\n",
       "      <td>Fischer</td>\n",
       "      <td>chemistry</td>\n",
       "      <td>male</td>\n",
       "      <td>1852-10-09</td>\n",
       "      <td>DE</td>\n",
       "      <td>Germany</td>\n",
       "    </tr>\n",
       "    <tr>\n",
       "      <th>7</th>\n",
       "      <td>1902</td>\n",
       "      <td>Theodor</td>\n",
       "      <td>Mommsen</td>\n",
       "      <td>literature</td>\n",
       "      <td>male</td>\n",
       "      <td>1817-11-30</td>\n",
       "      <td>DE</td>\n",
       "      <td>Germany</td>\n",
       "    </tr>\n",
       "    <tr>\n",
       "      <th>8</th>\n",
       "      <td>1902</td>\n",
       "      <td>Albert</td>\n",
       "      <td>Gobat</td>\n",
       "      <td>peace</td>\n",
       "      <td>male</td>\n",
       "      <td>1843-05-21</td>\n",
       "      <td>CH</td>\n",
       "      <td>Switzerland</td>\n",
       "    </tr>\n",
       "    <tr>\n",
       "      <th>9</th>\n",
       "      <td>1902</td>\n",
       "      <td>Élie</td>\n",
       "      <td>Ducommun</td>\n",
       "      <td>peace</td>\n",
       "      <td>male</td>\n",
       "      <td>1833-02-19</td>\n",
       "      <td>CH</td>\n",
       "      <td>Switzerland</td>\n",
       "    </tr>\n",
       "  </tbody>\n",
       "</table>\n",
       "</div>"
      ],
      "text/plain": [
       "   Year       Firstname     Lastname    Category Gender  Birth_Date   \n",
       "0  1901  Wilhelm Conrad      Röntgen     physics   male  1845-03-27  \\\n",
       "1  1901            Emil  von Behring    medicine   male  1854-03-15   \n",
       "2  1901           Henry       Dunant       peace   male  1828-05-08   \n",
       "3  1901        Frédéric        Passy       peace   male  1822-05-20   \n",
       "4  1901           Sully    Prudhomme  literature   male  1839-03-16   \n",
       "5  1901      Jacobus H.  van 't Hoff   chemistry   male  1852-08-30   \n",
       "6  1902            Emil      Fischer   chemistry   male  1852-10-09   \n",
       "7  1902         Theodor      Mommsen  literature   male  1817-11-30   \n",
       "8  1902          Albert        Gobat       peace   male  1843-05-21   \n",
       "9  1902            Élie     Ducommun       peace   male  1833-02-19   \n",
       "\n",
       "  Birth_Country_Code present_birth_country  \n",
       "0                 DE               Germany  \n",
       "1                 PL                Poland  \n",
       "2                 CH           Switzerland  \n",
       "3                 FR                France  \n",
       "4                 FR                France  \n",
       "5                 NL       the Netherlands  \n",
       "6                 DE               Germany  \n",
       "7                 DE               Germany  \n",
       "8                 CH           Switzerland  \n",
       "9                 CH           Switzerland  "
      ]
     },
     "execution_count": 89,
     "metadata": {},
     "output_type": "execute_result"
    }
   ],
   "source": [
    "# columns to project\n",
    "keep_col = ['Year', 'Firstname', 'Lastname', 'Category', 'Gender',\n",
    "            'Birth_Date', 'Birth_Country_Code', 'present_birth_country']\n",
    "final_nobel_df = without_org_df[keep_col] # projection\n",
    "final_nobel_df.head(10) # check"
   ]
  },
  {
   "attachments": {},
   "cell_type": "markdown",
   "metadata": {},
   "source": [
    "Finally, writing this into a `.csv` file so I can import it into Tableau:"
   ]
  },
  {
   "cell_type": "code",
   "execution_count": 90,
   "metadata": {},
   "outputs": [],
   "source": [
    "# Writing to .csv file\n",
    "final_nobel_df.to_csv('clean_nobel_laureate_data.csv')"
   ]
  },
  {
   "cell_type": "code",
   "execution_count": null,
   "metadata": {},
   "outputs": [],
   "source": []
  }
 ],
 "metadata": {
  "kernelspec": {
   "display_name": "Python 3",
   "language": "python",
   "name": "python3"
  },
  "language_info": {
   "codemirror_mode": {
    "name": "ipython",
    "version": 3
   },
   "file_extension": ".py",
   "mimetype": "text/x-python",
   "name": "python",
   "nbconvert_exporter": "python",
   "pygments_lexer": "ipython3",
   "version": "3.11.3"
  },
  "orig_nbformat": 4
 },
 "nbformat": 4,
 "nbformat_minor": 2
}
